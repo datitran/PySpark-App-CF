{
 "cells": [
  {
   "cell_type": "markdown",
   "metadata": {},
   "source": [
    "## Linear Regression Example"
   ]
  },
  {
   "cell_type": "code",
   "execution_count": 1,
   "metadata": {
    "collapsed": true
   },
   "outputs": [],
   "source": [
    "import pandas as pd\n",
    "import numpy as np\n",
    "import matplotlib.pyplot as plt\n",
    "plt.style.use('ggplot')\n",
    "%matplotlib inline\n",
    "\n",
    "import os\n",
    "import sys\n",
    "try:\n",
    "    # Append PySpark to PYTHONPATH / Spark 2.1.0\n",
    "    sys.path.append(os.path.join(os.environ[\"SPARK_HOME\"], \"python\"))\n",
    "    sys.path.append(os.path.join(os.environ[\"SPARK_HOME\"], \"python\", \"lib\",\n",
    "                                 \"py4j-0.10.4-src.zip\"))\n",
    "except KeyError as e:\n",
    "    print(\"SPARK_HOME is not set\", e)\n",
    "    sys.exit(1)\n",
    "    \n",
    "from pyspark.sql import SparkSession\n",
    "from pyspark.ml.regression import LinearRegression, LinearRegressionModel\n",
    "from pyspark.ml.linalg import Vectors"
   ]
  },
  {
   "cell_type": "code",
   "execution_count": 2,
   "metadata": {
    "collapsed": false
   },
   "outputs": [],
   "source": [
    "spark_session = SparkSession.builder.getOrCreate()"
   ]
  },
  {
   "cell_type": "markdown",
   "metadata": {},
   "source": [
    "### Generate Data"
   ]
  },
  {
   "cell_type": "code",
   "execution_count": 3,
   "metadata": {
    "collapsed": true
   },
   "outputs": [],
   "source": [
    "# y = b_o + b_1*x + error\n",
    "# b_0 = 0.5, b_1 = 0.3, error = normally distributed\n",
    "np.random.seed(1) # set the seed\n",
    "x = np.arange(100)\n",
    "error = np.random.normal(0, size=(100,))\n",
    "y = 0.5 + 0.3 * x + error"
   ]
  },
  {
   "cell_type": "code",
   "execution_count": 4,
   "metadata": {
    "collapsed": false
   },
   "outputs": [
    {
     "data": {
      "text/plain": [
       "(4950, 1541.05828520757)"
      ]
     },
     "execution_count": 4,
     "metadata": {},
     "output_type": "execute_result"
    }
   ],
   "source": [
    "sum(x), sum(y) # for testing"
   ]
  },
  {
   "cell_type": "code",
   "execution_count": 5,
   "metadata": {
    "collapsed": false
   },
   "outputs": [
    {
     "data": {
      "image/png": "[encoded data removed]",
      "text/plain": [
       "<matplotlib.figure.Figure at 0x10518e5c0>"
      ]
     },
     "metadata": {},
     "output_type": "display_data"
    }
   ],
   "source": [
    "plt.scatter(x, y)\n",
    "pass"
   ]
  },
  {
   "cell_type": "markdown",
   "metadata": {},
   "source": [
    "### Convert to Spark DataFrame"
   ]
  },
  {
   "cell_type": "code",
   "execution_count": 6,
   "metadata": {
    "collapsed": false
   },
   "outputs": [],
   "source": [
    "data = pd.DataFrame([(i, j) for i, j in zip(x, y)], columns = [\"x\", \"y\"])"
   ]
  },
  {
   "cell_type": "code",
   "execution_count": 7,
   "metadata": {
    "collapsed": false
   },
   "outputs": [],
   "source": [
    "data_spark = spark_session.createDataFrame(data)"
   ]
  },
  {
   "cell_type": "code",
   "execution_count": 8,
   "metadata": {
    "collapsed": false
   },
   "outputs": [
    {
     "name": "stdout",
     "output_type": "stream",
     "text": [
      "+---+-------------------+\n",
      "|  x|                  y|\n",
      "+---+-------------------+\n",
      "|  0| 2.1243453636632417|\n",
      "|  1|0.18824358634992466|\n",
      "|  2| 0.5718282477365444|\n",
      "|  3| 0.3270313778438294|\n",
      "|  4| 2.5654076293246786|\n",
      "|  5|-0.3015386968802827|\n",
      "|  6|   4.04481176421648|\n",
      "|  7| 1.8387930991048973|\n",
      "|  8| 3.2190390960570987|\n",
      "|  9|   2.95062962452259|\n",
      "| 10| 4.9621079370449745|\n",
      "| 11| 1.7398592905023458|\n",
      "| 12|  3.777582795986492|\n",
      "| 13|  4.015945645331585|\n",
      "| 14|  5.833769442335438|\n",
      "| 15|  3.900108732685969|\n",
      "| 16|  5.127571792449564|\n",
      "| 17|  4.722141582078628|\n",
      "| 18|  5.942213746715592|\n",
      "| 19|  6.782815213715822|\n",
      "+---+-------------------+\n",
      "only showing top 20 rows\n",
      "\n"
     ]
    }
   ],
   "source": [
    "data_spark.show()"
   ]
  },
  {
   "cell_type": "code",
   "execution_count": 9,
   "metadata": {
    "collapsed": false
   },
   "outputs": [],
   "source": [
    "df = spark_session.createDataFrame((data_spark\n",
    " .rdd\n",
    " .map(lambda row: (row[1], 0.5, Vectors.dense(row[0]))) \n",
    "), [\"label\", \"weight\", \"features\"])"
   ]
  },
  {
   "cell_type": "code",
   "execution_count": 10,
   "metadata": {
    "collapsed": false
   },
   "outputs": [
    {
     "data": {
      "text/plain": [
       "(['label', 'weight', 'features'], 100)"
      ]
     },
     "execution_count": 10,
     "metadata": {},
     "output_type": "execute_result"
    }
   ],
   "source": [
    "df.columns, df.count() # for testing"
   ]
  },
  {
   "cell_type": "markdown",
   "metadata": {},
   "source": [
    "### Simple Linear Regression"
   ]
  },
  {
   "cell_type": "code",
   "execution_count": 11,
   "metadata": {
    "collapsed": true
   },
   "outputs": [],
   "source": [
    "lr = LinearRegression(maxIter=5, regParam=0.0, solver=\"normal\", weightCol=\"weight\")"
   ]
  },
  {
   "cell_type": "code",
   "execution_count": 12,
   "metadata": {
    "collapsed": false
   },
   "outputs": [],
   "source": [
    "model = lr.fit(df)"
   ]
  },
  {
   "cell_type": "code",
   "execution_count": 13,
   "metadata": {
    "collapsed": false
   },
   "outputs": [
    {
     "data": {
      "text/plain": [
       "0.30334186528098478"
      ]
     },
     "execution_count": 13,
     "metadata": {},
     "output_type": "execute_result"
    }
   ],
   "source": [
    "model.coefficients.values[0] # for testing"
   ]
  },
  {
   "cell_type": "code",
   "execution_count": 14,
   "metadata": {
    "collapsed": false
   },
   "outputs": [
    {
     "data": {
      "text/plain": [
       "0.3951605206669529"
      ]
     },
     "execution_count": 14,
     "metadata": {},
     "output_type": "execute_result"
    }
   ],
   "source": [
    "model.intercept # for testing"
   ]
  },
  {
   "cell_type": "code",
   "execution_count": 15,
   "metadata": {
    "collapsed": false
   },
   "outputs": [],
   "source": [
    "b_0_hat = model.intercept\n",
    "b_1_hat = model.coefficients.values[0]\n",
    "y_hat = b_0_hat + b_1_hat * x"
   ]
  },
  {
   "cell_type": "code",
   "execution_count": 16,
   "metadata": {
    "collapsed": false
   },
   "outputs": [
    {
     "data": {
      "image/png": "[encoded data removed]",
      "text/plain": [
       "<matplotlib.figure.Figure at 0x10a370438>"
      ]
     },
     "metadata": {},
     "output_type": "display_data"
    }
   ],
   "source": [
    "plt.scatter(x, y)\n",
    "plt.plot(x, y_hat)\n",
    "pass"
   ]
  },
  {
   "cell_type": "code",
   "execution_count": 17,
   "metadata": {
    "collapsed": false
   },
   "outputs": [
    {
     "name": "stdout",
     "output_type": "stream",
     "text": [
      "+-------------------+------+--------+------------------+\n",
      "|              label|weight|features|        prediction|\n",
      "+-------------------+------+--------+------------------+\n",
      "| 2.1243453636632417|   0.5|   [0.0]|0.3951605206669529|\n",
      "|0.18824358634992466|   0.5|   [1.0]|0.6985023859479377|\n",
      "| 0.5718282477365444|   0.5|   [2.0]|1.0018442512289225|\n",
      "| 0.3270313778438294|   0.5|   [3.0]|1.3051861165099072|\n",
      "| 2.5654076293246786|   0.5|   [4.0]| 1.608527981790892|\n",
      "|-0.3015386968802827|   0.5|   [5.0]|1.9118698470718767|\n",
      "|   4.04481176421648|   0.5|   [6.0]|2.2152117123528616|\n",
      "| 1.8387930991048973|   0.5|   [7.0]|2.5185535776338464|\n",
      "| 3.2190390960570987|   0.5|   [8.0]| 2.821895442914831|\n",
      "|   2.95062962452259|   0.5|   [9.0]| 3.125237308195816|\n",
      "| 4.9621079370449745|   0.5|  [10.0]|3.4285791734768005|\n",
      "| 1.7398592905023458|   0.5|  [11.0]|3.7319210387577852|\n",
      "|  3.777582795986492|   0.5|  [12.0]|  4.03526290403877|\n",
      "|  4.015945645331585|   0.5|  [13.0]| 4.338604769319756|\n",
      "|  5.833769442335438|   0.5|  [14.0]|  4.64194663460074|\n",
      "|  3.900108732685969|   0.5|  [15.0]| 4.945288499881724|\n",
      "|  5.127571792449564|   0.5|  [16.0]| 5.248630365162709|\n",
      "|  4.722141582078628|   0.5|  [17.0]|5.5519722304436945|\n",
      "|  5.942213746715592|   0.5|  [18.0]| 5.855314095724679|\n",
      "|  6.782815213715822|   0.5|  [19.0]| 6.158655961005664|\n",
      "+-------------------+------+--------+------------------+\n",
      "only showing top 20 rows\n",
      "\n"
     ]
    }
   ],
   "source": [
    "model.transform(df).show()"
   ]
  },
  {
   "cell_type": "code",
   "execution_count": 18,
   "metadata": {
    "collapsed": false
   },
   "outputs": [],
   "source": [
    "# save model\n",
    "model.write().overwrite().save(\"model\")"
   ]
  },
  {
   "cell_type": "markdown",
   "metadata": {},
   "source": [
    "### Predict New Data"
   ]
  },
  {
   "cell_type": "code",
   "execution_count": 19,
   "metadata": {
    "collapsed": false
   },
   "outputs": [],
   "source": [
    "model_load = LinearRegressionModel.load(\"model\")"
   ]
  },
  {
   "cell_type": "code",
   "execution_count": 20,
   "metadata": {
    "collapsed": true
   },
   "outputs": [],
   "source": [
    "# need the index as dummy column\n",
    "predict_df = spark_session.createDataFrame([(1, Vectors.dense(0))], [\"index\", \"features\"])"
   ]
  },
  {
   "cell_type": "code",
   "execution_count": 21,
   "metadata": {
    "collapsed": false
   },
   "outputs": [
    {
     "name": "stdout",
     "output_type": "stream",
     "text": [
      "+-----+--------+------------------+\n",
      "|index|features|        prediction|\n",
      "+-----+--------+------------------+\n",
      "|    1|   [0.0]|0.3951605206669529|\n",
      "+-----+--------+------------------+\n",
      "\n"
     ]
    }
   ],
   "source": [
    "model_load.transform(predict_df).show()"
   ]
  }
 ],
 "metadata": {
  "kernelspec": {
   "display_name": "Python 3",
   "language": "python",
   "name": "python3"
  },
  "language_info": {
   "codemirror_mode": {
    "name": "ipython",
    "version": 3
   },
   "file_extension": ".py",
   "mimetype": "text/x-python",
   "name": "python",
   "nbconvert_exporter": "python",
   "pygments_lexer": "ipython3",
   "version": "3.5.2"
  },
  "widgets": {
   "state": {},
   "version": "1.1.2"
  }
 },
 "nbformat": 4,
 "nbformat_minor": 2
}
