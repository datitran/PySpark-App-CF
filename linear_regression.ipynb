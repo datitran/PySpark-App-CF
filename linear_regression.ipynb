{
 "cells": [
  {
   "cell_type": "markdown",
   "metadata": {},
   "source": [
    "## Linear Regression Example"
   ]
  },
  {
   "cell_type": "code",
   "execution_count": 1,
   "metadata": {
    "collapsed": true
   },
   "outputs": [],
   "source": [
    "import pandas as pd\n",
    "import numpy as np\n",
    "import matplotlib.pyplot as plt\n",
    "plt.style.use('ggplot')\n",
    "%matplotlib inline\n",
    "\n",
    "import os\n",
    "import sys\n",
    "try:\n",
    "    # Append PySpark to PYTHONPATH / Spark 2.1.0\n",
    "    sys.path.append(os.path.join(os.environ[\"SPARK_HOME\"], \"python\"))\n",
    "    sys.path.append(os.path.join(os.environ[\"SPARK_HOME\"], \"python\", \"lib\",\n",
    "                                 \"py4j-0.10.4-src.zip\"))\n",
    "except KeyError as e:\n",
    "    print(\"SPARK_HOME is not set\", e)\n",
    "    sys.exit(1)\n",
    "    \n",
    "from pyspark.sql import SparkSession\n",
    "from pyspark.ml.regression import LinearRegression, LinearRegressionModel\n",
    "from pyspark.ml.linalg import Vectors"
   ]
  },
  {
   "cell_type": "code",
   "execution_count": 2,
   "metadata": {
    "collapsed": false
   },
   "outputs": [],
   "source": [
    "spark_session = SparkSession.builder.getOrCreate()"
   ]
  },
  {
   "cell_type": "markdown",
   "metadata": {},
   "source": [
    "### Generate Data"
   ]
  },
  {
   "cell_type": "code",
   "execution_count": 3,
   "metadata": {
    "collapsed": true
   },
   "outputs": [],
   "source": [
    "# y = b_o + b_1*x + error\n",
    "# b_0 = 0.5, b_1 = 0.3, error = normally distributed\n",
    "x = np.arange(100)\n",
    "error = np.random.normal(0, size=(100,))\n",
    "y = 0.5 + 0.3 * x + error"
   ]
  },
  {
   "cell_type": "code",
   "execution_count": 4,
   "metadata": {
    "collapsed": false
   },
   "outputs": [
    {
     "data": {
      "image/png": "[encoded data removed]",
      "text/plain": [
       "<matplotlib.figure.Figure at 0x10a15dba8>"
      ]
     },
     "metadata": {},
     "output_type": "display_data"
    }
   ],
   "source": [
    "plt.plot(x, y)\n",
    "pass"
   ]
  },
  {
   "cell_type": "markdown",
   "metadata": {},
   "source": [
    "### Convert to Spark DataFrame"
   ]
  },
  {
   "cell_type": "code",
   "execution_count": 5,
   "metadata": {
    "collapsed": false
   },
   "outputs": [],
   "source": [
    "data = pd.DataFrame([(i, j) for i, j in zip(x,y)], columns = [\"x\", \"y\"])"
   ]
  },
  {
   "cell_type": "code",
   "execution_count": 6,
   "metadata": {
    "collapsed": false
   },
   "outputs": [],
   "source": [
    "data_spark = spark_session.createDataFrame(data)"
   ]
  },
  {
   "cell_type": "code",
   "execution_count": 7,
   "metadata": {
    "collapsed": false
   },
   "outputs": [
    {
     "name": "stdout",
     "output_type": "stream",
     "text": [
      "+---+-------------------+\n",
      "|  x|                  y|\n",
      "+---+-------------------+\n",
      "|  0| 1.0587275386834776|\n",
      "|  1|  0.730768657923699|\n",
      "|  2|  1.441505299673081|\n",
      "|  3| 1.8233212076934802|\n",
      "|  4|0.08898950675695438|\n",
      "|  5| 0.8905242974616074|\n",
      "|  6| 1.8679060524757731|\n",
      "|  7|  3.095184223812484|\n",
      "|  8|  2.414412495174162|\n",
      "|  9| 1.1768633094453045|\n",
      "| 10| 3.0792184885280003|\n",
      "| 11| 4.2629489155699245|\n",
      "| 12|  5.553211662296347|\n",
      "| 13| 2.8988604343106927|\n",
      "| 14| 2.7209885599958863|\n",
      "| 15| 6.7608452493958175|\n",
      "| 16| 4.8662954638016185|\n",
      "| 17| 5.9140470253067665|\n",
      "| 18|  7.112236630438867|\n",
      "| 19|  7.833714317052323|\n",
      "+---+-------------------+\n",
      "only showing top 20 rows\n",
      "\n"
     ]
    }
   ],
   "source": [
    "data_spark.show()"
   ]
  },
  {
   "cell_type": "code",
   "execution_count": 8,
   "metadata": {
    "collapsed": false
   },
   "outputs": [],
   "source": [
    "df = spark_session.createDataFrame((data_spark\n",
    " .rdd\n",
    " .map(lambda row: (row[1], 0.5, Vectors.dense(row[0]))) \n",
    "), [\"label\", \"weight\", \"features\"] )"
   ]
  },
  {
   "cell_type": "markdown",
   "metadata": {},
   "source": [
    "### Simple Linear Regression"
   ]
  },
  {
   "cell_type": "code",
   "execution_count": 9,
   "metadata": {
    "collapsed": true
   },
   "outputs": [],
   "source": [
    "lr = LinearRegression(maxIter=5, regParam=0.0, solver=\"normal\", weightCol=\"weight\")"
   ]
  },
  {
   "cell_type": "code",
   "execution_count": 10,
   "metadata": {
    "collapsed": false
   },
   "outputs": [],
   "source": [
    "model = lr.fit(df)"
   ]
  },
  {
   "cell_type": "code",
   "execution_count": 11,
   "metadata": {
    "collapsed": false
   },
   "outputs": [
    {
     "data": {
      "text/plain": [
       "DenseVector([0.302])"
      ]
     },
     "execution_count": 11,
     "metadata": {},
     "output_type": "execute_result"
    }
   ],
   "source": [
    "model.coefficients"
   ]
  },
  {
   "cell_type": "code",
   "execution_count": 12,
   "metadata": {
    "collapsed": false
   },
   "outputs": [
    {
     "data": {
      "text/plain": [
       "0.3750432334219888"
      ]
     },
     "execution_count": 12,
     "metadata": {},
     "output_type": "execute_result"
    }
   ],
   "source": [
    "model.intercept"
   ]
  },
  {
   "cell_type": "code",
   "execution_count": 13,
   "metadata": {
    "collapsed": false
   },
   "outputs": [
    {
     "name": "stdout",
     "output_type": "stream",
     "text": [
      "+-------------------+------+--------+------------------+\n",
      "|              label|weight|features|        prediction|\n",
      "+-------------------+------+--------+------------------+\n",
      "| 1.0587275386834776|   0.5|   [0.0]|0.3750432334219888|\n",
      "|  0.730768657923699|   0.5|   [1.0]|0.6770651715916667|\n",
      "|  1.441505299673081|   0.5|   [2.0]|0.9790871097613447|\n",
      "| 1.8233212076934802|   0.5|   [3.0]|1.2811090479310225|\n",
      "|0.08898950675695438|   0.5|   [4.0]|1.5831309861007006|\n",
      "| 0.8905242974616074|   0.5|   [5.0]|1.8851529242703784|\n",
      "| 1.8679060524757731|   0.5|   [6.0]|2.1871748624400564|\n",
      "|  3.095184223812484|   0.5|   [7.0]|2.4891968006097343|\n",
      "|  2.414412495174162|   0.5|   [8.0]| 2.791218738779412|\n",
      "| 1.1768633094453045|   0.5|   [9.0]|  3.09324067694909|\n",
      "| 3.0792184885280003|   0.5|  [10.0]|3.3952626151187677|\n",
      "| 4.2629489155699245|   0.5|  [11.0]| 3.697284553288446|\n",
      "|  5.553211662296347|   0.5|  [12.0]| 3.999306491458124|\n",
      "| 2.8988604343106927|   0.5|  [13.0]| 4.301328429627802|\n",
      "| 2.7209885599958863|   0.5|  [14.0]|  4.60335036779748|\n",
      "| 6.7608452493958175|   0.5|  [15.0]| 4.905372305967158|\n",
      "| 4.8662954638016185|   0.5|  [16.0]| 5.207394244136836|\n",
      "| 5.9140470253067665|   0.5|  [17.0]| 5.509416182306514|\n",
      "|  7.112236630438867|   0.5|  [18.0]| 5.811438120476192|\n",
      "|  7.833714317052323|   0.5|  [19.0]| 6.113460058645869|\n",
      "+-------------------+------+--------+------------------+\n",
      "only showing top 20 rows\n",
      "\n"
     ]
    }
   ],
   "source": [
    "model.transform(df).show()"
   ]
  },
  {
   "cell_type": "code",
   "execution_count": 15,
   "metadata": {
    "collapsed": false
   },
   "outputs": [],
   "source": [
    "# save model\n",
    "model.write().overwrite().save(\"model\")"
   ]
  },
  {
   "cell_type": "markdown",
   "metadata": {},
   "source": [
    "### Predict New Data"
   ]
  },
  {
   "cell_type": "code",
   "execution_count": 16,
   "metadata": {
    "collapsed": false
   },
   "outputs": [],
   "source": [
    "model_load = LinearRegressionModel.load(\"model\")"
   ]
  },
  {
   "cell_type": "code",
   "execution_count": 17,
   "metadata": {
    "collapsed": true
   },
   "outputs": [],
   "source": [
    "# need the index as dummy column\n",
    "predict_df = spark_session.createDataFrame([(1, Vectors.dense(0))], [\"index\", \"features\"])"
   ]
  },
  {
   "cell_type": "code",
   "execution_count": 18,
   "metadata": {
    "collapsed": false
   },
   "outputs": [
    {
     "name": "stdout",
     "output_type": "stream",
     "text": [
      "+-----+--------+------------------+\n",
      "|index|features|        prediction|\n",
      "+-----+--------+------------------+\n",
      "|    1|   [0.0]|0.3750432334219888|\n",
      "+-----+--------+------------------+\n",
      "\n"
     ]
    }
   ],
   "source": [
    "model_load.transform(predict_df).show()"
   ]
  },
  {
   "cell_type": "code",
   "execution_count": 33,
   "metadata": {
    "collapsed": false
   },
   "outputs": [
    {
     "data": {
      "text/plain": [
       "'Row(index=1, features=DenseVector([0.0]), prediction=0.3750432334219888)'"
      ]
     },
     "execution_count": 33,
     "metadata": {},
     "output_type": "execute_result"
    }
   ],
   "source": [
    "str(model_load.transform(predict_df).collect()[0])"
   ]
  },
  {
   "cell_type": "code",
   "execution_count": 21,
   "metadata": {
    "collapsed": false
   },
   "outputs": [
    {
     "data": {
      "text/plain": [
       "[0, 1, 2, 3, 4, 5, 6, 7, 8, 9]"
      ]
     },
     "execution_count": 21,
     "metadata": {},
     "output_type": "execute_result"
    }
   ],
   "source": [
    "spark_session.sparkContext.parallelize(range(10)).collect()"
   ]
  },
  {
   "cell_type": "code",
   "execution_count": null,
   "metadata": {
    "collapsed": true
   },
   "outputs": [],
   "source": []
  }
 ],
 "metadata": {
  "kernelspec": {
   "display_name": "Python 3",
   "language": "python",
   "name": "python3"
  },
  "language_info": {
   "codemirror_mode": {
    "name": "ipython",
    "version": 3
   },
   "file_extension": ".py",
   "mimetype": "text/x-python",
   "name": "python",
   "nbconvert_exporter": "python",
   "pygments_lexer": "ipython3",
   "version": "3.5.2"
  },
  "widgets": {
   "state": {},
   "version": "1.1.2"
  }
 },
 "nbformat": 4,
 "nbformat_minor": 2
}
