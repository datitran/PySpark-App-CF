{
 "cells": [
  {
   "cell_type": "markdown",
   "metadata": {},
   "source": [
    "## Linear Regression Example"
   ]
  },
  {
   "cell_type": "code",
   "execution_count": 1,
   "metadata": {
    "collapsed": true
   },
   "outputs": [],
   "source": [
    "import pandas as pd\n",
    "import numpy as np\n",
    "import matplotlib.pyplot as plt\n",
    "plt.style.use('ggplot')\n",
    "%matplotlib inline\n",
    "\n",
    "import os\n",
    "import sys\n",
    "try:\n",
    "    # Append PySpark to PYTHONPATH / Spark 2.1.0\n",
    "    sys.path.append(os.path.join(os.environ[\"SPARK_HOME\"], \"python\"))\n",
    "    sys.path.append(os.path.join(os.environ[\"SPARK_HOME\"], \"python\", \"lib\",\n",
    "                                 \"py4j-0.10.4-src.zip\"))\n",
    "except KeyError as e:\n",
    "    print(\"SPARK_HOME is not set\", e)\n",
    "    sys.exit(1)\n",
    "    \n",
    "from pyspark.sql import SparkSession\n",
    "from pyspark.ml.regression import LinearRegression, LinearRegressionModel\n",
    "from pyspark.ml.linalg import Vectors"
   ]
  },
  {
   "cell_type": "code",
   "execution_count": 2,
   "metadata": {
    "collapsed": false
   },
   "outputs": [],
   "source": [
    "spark_session = SparkSession.builder.getOrCreate()"
   ]
  },
  {
   "cell_type": "markdown",
   "metadata": {},
   "source": [
    "### Generate Data"
   ]
  },
  {
   "cell_type": "code",
   "execution_count": 3,
   "metadata": {
    "collapsed": true
   },
   "outputs": [],
   "source": [
    "# y = b_o + b_1*x + error\n",
    "# b_0 = 0.5, b_1 = 0.3, error = normally distributed\n",
    "x = np.arange(100)\n",
    "error = np.random.normal(0, size=(100,))\n",
    "y = 0.5 + 0.3 * x + error"
   ]
  },
  {
   "cell_type": "code",
   "execution_count": 126,
   "metadata": {
    "collapsed": false
   },
   "outputs": [
    {
     "data": {
      "image/png": "[encoded data removed]",
      "text/plain": [
       "<matplotlib.figure.Figure at 0x10a534b70>"
      ]
     },
     "metadata": {},
     "output_type": "display_data"
    }
   ],
   "source": [
    "plt.scatter(x, y)\n",
    "pass"
   ]
  },
  {
   "cell_type": "markdown",
   "metadata": {},
   "source": [
    "### Convert to Spark DataFrame"
   ]
  },
  {
   "cell_type": "code",
   "execution_count": 5,
   "metadata": {
    "collapsed": false
   },
   "outputs": [],
   "source": [
    "data = pd.DataFrame([(i, j) for i, j in zip(x,y)], columns = [\"x\", \"y\"])"
   ]
  },
  {
   "cell_type": "code",
   "execution_count": 6,
   "metadata": {
    "collapsed": false
   },
   "outputs": [],
   "source": [
    "data_spark = spark_session.createDataFrame(data)"
   ]
  },
  {
   "cell_type": "code",
   "execution_count": 7,
   "metadata": {
    "collapsed": false
   },
   "outputs": [
    {
     "name": "stdout",
     "output_type": "stream",
     "text": [
      "+---+-------------------+\n",
      "|  x|                  y|\n",
      "+---+-------------------+\n",
      "|  0|-1.4822847921918212|\n",
      "|  1| 0.6822733704442338|\n",
      "|  2|  1.556229656305006|\n",
      "|  3|  1.221400287595696|\n",
      "|  4| 0.6544211332334076|\n",
      "|  5|  1.254190577522842|\n",
      "|  6| 1.8921271515977705|\n",
      "|  7| 2.5472372574617226|\n",
      "|  8| 1.8034424889804512|\n",
      "|  9| 2.5530329871415294|\n",
      "| 10| 1.6157991330444934|\n",
      "| 11|   4.22349656505238|\n",
      "| 12|  4.806936607967312|\n",
      "| 13|  3.485724880733545|\n",
      "| 14|  4.219038329130181|\n",
      "| 15|  5.294550878047955|\n",
      "| 16|  5.613306199839113|\n",
      "| 17|  4.425257013046646|\n",
      "| 18|  7.032431255876554|\n",
      "| 19|  6.574359668611116|\n",
      "+---+-------------------+\n",
      "only showing top 20 rows\n",
      "\n"
     ]
    }
   ],
   "source": [
    "data_spark.show()"
   ]
  },
  {
   "cell_type": "code",
   "execution_count": 8,
   "metadata": {
    "collapsed": false
   },
   "outputs": [],
   "source": [
    "df = spark_session.createDataFrame((data_spark\n",
    " .rdd\n",
    " .map(lambda row: (row[1], 0.5, Vectors.dense(row[0]))) \n",
    "), [\"label\", \"weight\", \"features\"] )"
   ]
  },
  {
   "cell_type": "markdown",
   "metadata": {},
   "source": [
    "### Simple Linear Regression"
   ]
  },
  {
   "cell_type": "code",
   "execution_count": 9,
   "metadata": {
    "collapsed": true
   },
   "outputs": [],
   "source": [
    "lr = LinearRegression(maxIter=5, regParam=0.0, solver=\"normal\", weightCol=\"weight\")"
   ]
  },
  {
   "cell_type": "code",
   "execution_count": 10,
   "metadata": {
    "collapsed": false
   },
   "outputs": [],
   "source": [
    "model = lr.fit(df)"
   ]
  },
  {
   "cell_type": "code",
   "execution_count": 11,
   "metadata": {
    "collapsed": false
   },
   "outputs": [
    {
     "data": {
      "text/plain": [
       "DenseVector([0.3029])"
      ]
     },
     "execution_count": 11,
     "metadata": {},
     "output_type": "execute_result"
    }
   ],
   "source": [
    "model.coefficients"
   ]
  },
  {
   "cell_type": "code",
   "execution_count": 12,
   "metadata": {
    "collapsed": false
   },
   "outputs": [
    {
     "data": {
      "text/plain": [
       "0.14448316500870423"
      ]
     },
     "execution_count": 12,
     "metadata": {},
     "output_type": "execute_result"
    }
   ],
   "source": [
    "model.intercept"
   ]
  },
  {
   "cell_type": "code",
   "execution_count": 119,
   "metadata": {
    "collapsed": false
   },
   "outputs": [],
   "source": [
    "b_0_hat = model.intercept\n",
    "b_1_hat = model.coefficients.values[0]\n",
    "y_hat = b_0_hat + b_1_hat * x"
   ]
  },
  {
   "cell_type": "code",
   "execution_count": 129,
   "metadata": {
    "collapsed": false
   },
   "outputs": [
    {
     "data": {
      "image/png": "[encoded data removed]",
      "text/plain": [
       "<matplotlib.figure.Figure at 0x10b2f3128>"
      ]
     },
     "metadata": {},
     "output_type": "display_data"
    }
   ],
   "source": [
    "plt.scatter(x, y)\n",
    "plt.plot(x, y_hat)\n",
    "pass"
   ]
  },
  {
   "cell_type": "code",
   "execution_count": 130,
   "metadata": {
    "collapsed": false
   },
   "outputs": [
    {
     "name": "stdout",
     "output_type": "stream",
     "text": [
      "+-------------------+------+--------+-------------------+\n",
      "|              label|weight|features|         prediction|\n",
      "+-------------------+------+--------+-------------------+\n",
      "|-1.4822847921918212|   0.5|   [0.0]|0.14448316500870423|\n",
      "| 0.6822733704442338|   0.5|   [1.0]| 0.4473971922469396|\n",
      "|  1.556229656305006|   0.5|   [2.0]| 0.7503112194851749|\n",
      "|  1.221400287595696|   0.5|   [3.0]| 1.0532252467234102|\n",
      "| 0.6544211332334076|   0.5|   [4.0]| 1.3561392739616456|\n",
      "|  1.254190577522842|   0.5|   [5.0]|  1.659053301199881|\n",
      "| 1.8921271515977705|   0.5|   [6.0]| 1.9619673284381163|\n",
      "| 2.5472372574617226|   0.5|   [7.0]|  2.264881355676352|\n",
      "| 1.8034424889804512|   0.5|   [8.0]|  2.567795382914587|\n",
      "| 2.5530329871415294|   0.5|   [9.0]|  2.870709410152822|\n",
      "| 1.6157991330444934|   0.5|  [10.0]| 3.1736234373910577|\n",
      "|   4.22349656505238|   0.5|  [11.0]| 3.4765374646292933|\n",
      "|  4.806936607967312|   0.5|  [12.0]| 3.7794514918675284|\n",
      "|  3.485724880733545|   0.5|  [13.0]|  4.082365519105764|\n",
      "|  4.219038329130181|   0.5|  [14.0]|     4.385279546344|\n",
      "|  5.294550878047955|   0.5|  [15.0]|  4.688193573582235|\n",
      "|  5.613306199839113|   0.5|  [16.0]|   4.99110760082047|\n",
      "|  4.425257013046646|   0.5|  [17.0]|  5.294021628058705|\n",
      "|  7.032431255876554|   0.5|  [18.0]| 5.5969356552969405|\n",
      "|  6.574359668611116|   0.5|  [19.0]| 5.8998496825351765|\n",
      "+-------------------+------+--------+-------------------+\n",
      "only showing top 20 rows\n",
      "\n"
     ]
    }
   ],
   "source": [
    "model.transform(df).show()"
   ]
  },
  {
   "cell_type": "code",
   "execution_count": 114,
   "metadata": {
    "collapsed": false
   },
   "outputs": [],
   "source": [
    "# save model\n",
    "model.write().overwrite().save(\"model\")"
   ]
  },
  {
   "cell_type": "markdown",
   "metadata": {},
   "source": [
    "### Predict New Data"
   ]
  },
  {
   "cell_type": "code",
   "execution_count": 15,
   "metadata": {
    "collapsed": false
   },
   "outputs": [],
   "source": [
    "model_load = LinearRegressionModel.load(\"model\")"
   ]
  },
  {
   "cell_type": "code",
   "execution_count": 16,
   "metadata": {
    "collapsed": true
   },
   "outputs": [],
   "source": [
    "# need the index as dummy column\n",
    "predict_df = spark_session.createDataFrame([(1, Vectors.dense(0))], [\"index\", \"features\"])"
   ]
  },
  {
   "cell_type": "code",
   "execution_count": 17,
   "metadata": {
    "collapsed": false
   },
   "outputs": [
    {
     "name": "stdout",
     "output_type": "stream",
     "text": [
      "+-----+--------+-------------------+\n",
      "|index|features|         prediction|\n",
      "+-----+--------+-------------------+\n",
      "|    1|   [0.0]|0.14448316500870423|\n",
      "+-----+--------+-------------------+\n",
      "\n"
     ]
    }
   ],
   "source": [
    "model_load.transform(predict_df).show()"
   ]
  }
 ],
 "metadata": {
  "kernelspec": {
   "display_name": "Python 3",
   "language": "python",
   "name": "python3"
  },
  "language_info": {
   "codemirror_mode": {
    "name": "ipython",
    "version": 3
   },
   "file_extension": ".py",
   "mimetype": "text/x-python",
   "name": "python",
   "nbconvert_exporter": "python",
   "pygments_lexer": "ipython3",
   "version": "3.5.2"
  },
  "widgets": {
   "state": {},
   "version": "1.1.2"
  }
 },
 "nbformat": 4,
 "nbformat_minor": 2
}
